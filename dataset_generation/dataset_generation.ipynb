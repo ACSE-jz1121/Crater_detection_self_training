{
 "cells": [
  {
   "cell_type": "markdown",
   "id": "56c1571c",
   "metadata": {},
   "source": [
    "# Dataset generation step by step"
   ]
  },
  {
   "cell_type": "code",
   "execution_count": 1,
   "id": "4e5bf591",
   "metadata": {},
   "outputs": [
    {
     "name": "stdout",
     "output_type": "stream",
     "text": [
      "Requirement already satisfied: Pillow in c:\\users\\jamil\\anaconda3\\lib\\site-packages (9.2.0)\n"
     ]
    }
   ],
   "source": [
    "!pip install Pillow"
   ]
  },
  {
   "cell_type": "code",
   "execution_count": 2,
   "id": "fa0c79bd",
   "metadata": {},
   "outputs": [],
   "source": [
    "from sklearn.metrics import accuracy_score\n",
    "from sklearn.model_selection import StratifiedShuffleSplit\n",
    "\n",
    "from livelossplot import PlotLosses\n",
    "from pycm import *\n",
    "\n",
    "import torch\n",
    "import torch.nn as nn\n",
    "import torch.nn.functional as F\n",
    "from torch.utils.data import TensorDataset, DataLoader\n",
    "import torchvision.transforms as transforms\n",
    "from torchvision.datasets import MNIST\n",
    "import numpy as np\n",
    "import random\n",
    "from PIL import Image\n",
    "from tqdm import tqdm\n",
    "from math import ceil\n",
    "\n",
    "Image.MAX_IMAGE_PIXELS = None\n",
    "import cv2\n",
    "from matplotlib.patches import Ellipse,Rectangle\n",
    "\n",
    "import pylab as plt\n",
    "import numpy as np\n",
    "import math\n",
    "import pandas as pd\n",
    "import os\n"
   ]
  },
  {
   "cell_type": "code",
   "execution_count": 3,
   "id": "4260f53a",
   "metadata": {
    "scrolled": false
   },
   "outputs": [
    {
     "data": {
      "text/html": [
       "<div>\n",
       "<style scoped>\n",
       "    .dataframe tbody tr th:only-of-type {\n",
       "        vertical-align: middle;\n",
       "    }\n",
       "\n",
       "    .dataframe tbody tr th {\n",
       "        vertical-align: top;\n",
       "    }\n",
       "\n",
       "    .dataframe thead th {\n",
       "        text-align: right;\n",
       "    }\n",
       "</style>\n",
       "<table border=\"1\" class=\"dataframe\">\n",
       "  <thead>\n",
       "    <tr style=\"text-align: right;\">\n",
       "      <th></th>\n",
       "      <th>CRATER_ID</th>\n",
       "      <th>LAT_CIRC_IMG</th>\n",
       "      <th>LON_CIRC_IMG</th>\n",
       "      <th>LAT_ELLI_IMG</th>\n",
       "      <th>LON_ELLI_IMG</th>\n",
       "      <th>DIAM_CIRC_IMG</th>\n",
       "      <th>DIAM_CIRC_SD_IMG</th>\n",
       "      <th>DIAM_ELLI_MAJOR_IMG</th>\n",
       "      <th>DIAM_ELLI_MINOR_IMG</th>\n",
       "      <th>DIAM_ELLI_ECCEN_IMG</th>\n",
       "      <th>...</th>\n",
       "      <th>INT_MORPH1</th>\n",
       "      <th>INT_MORPH2</th>\n",
       "      <th>INT_MORPH3</th>\n",
       "      <th>CONF</th>\n",
       "      <th>NOTES</th>\n",
       "      <th>DEG_RIM</th>\n",
       "      <th>DEG_EJC</th>\n",
       "      <th>DEG_FLR</th>\n",
       "      <th>DEG_LEV_1</th>\n",
       "      <th>DEG_LEV</th>\n",
       "    </tr>\n",
       "  </thead>\n",
       "  <tbody>\n",
       "    <tr>\n",
       "      <th>0</th>\n",
       "      <td>01-1-000003</td>\n",
       "      <td>79.257599</td>\n",
       "      <td>211.909949</td>\n",
       "      <td>79.257584</td>\n",
       "      <td>211.910021</td>\n",
       "      <td>19.526698</td>\n",
       "      <td>0.230187</td>\n",
       "      <td>19.746718</td>\n",
       "      <td>19.286041</td>\n",
       "      <td>0.214742</td>\n",
       "      <td>...</td>\n",
       "      <td>CpxUnc</td>\n",
       "      <td>NaN</td>\n",
       "      <td>Floor Deposits</td>\n",
       "      <td>NaN</td>\n",
       "      <td>NaN</td>\n",
       "      <td>1.0</td>\n",
       "      <td>1.0</td>\n",
       "      <td>1.0</td>\n",
       "      <td>3</td>\n",
       "      <td>3</td>\n",
       "    </tr>\n",
       "    <tr>\n",
       "      <th>1</th>\n",
       "      <td>01-1-000004</td>\n",
       "      <td>78.696512</td>\n",
       "      <td>207.162344</td>\n",
       "      <td>78.696517</td>\n",
       "      <td>207.162105</td>\n",
       "      <td>4.232291</td>\n",
       "      <td>0.089167</td>\n",
       "      <td>4.449180</td>\n",
       "      <td>4.019798</td>\n",
       "      <td>0.428605</td>\n",
       "      <td>...</td>\n",
       "      <td>NaN</td>\n",
       "      <td>NaN</td>\n",
       "      <td>Floor Deposits</td>\n",
       "      <td>NaN</td>\n",
       "      <td>NaN</td>\n",
       "      <td>3.0</td>\n",
       "      <td>2.0</td>\n",
       "      <td>1.0</td>\n",
       "      <td>6</td>\n",
       "      <td>6</td>\n",
       "    </tr>\n",
       "    <tr>\n",
       "      <th>2</th>\n",
       "      <td>01-1-000012</td>\n",
       "      <td>77.791422</td>\n",
       "      <td>186.586023</td>\n",
       "      <td>77.791443</td>\n",
       "      <td>186.585690</td>\n",
       "      <td>8.542042</td>\n",
       "      <td>0.193030</td>\n",
       "      <td>8.818632</td>\n",
       "      <td>8.251528</td>\n",
       "      <td>0.352817</td>\n",
       "      <td>...</td>\n",
       "      <td>CpxFF</td>\n",
       "      <td>NaN</td>\n",
       "      <td>NaN</td>\n",
       "      <td>NaN</td>\n",
       "      <td>NaN</td>\n",
       "      <td>2.0</td>\n",
       "      <td>2.0</td>\n",
       "      <td>2.0</td>\n",
       "      <td>6</td>\n",
       "      <td>6</td>\n",
       "    </tr>\n",
       "    <tr>\n",
       "      <th>3</th>\n",
       "      <td>01-1-000013</td>\n",
       "      <td>76.655040</td>\n",
       "      <td>194.807812</td>\n",
       "      <td>76.655020</td>\n",
       "      <td>194.807973</td>\n",
       "      <td>7.967843</td>\n",
       "      <td>0.139290</td>\n",
       "      <td>8.268589</td>\n",
       "      <td>7.662693</td>\n",
       "      <td>0.375745</td>\n",
       "      <td>...</td>\n",
       "      <td>CpxFF</td>\n",
       "      <td>NaN</td>\n",
       "      <td>NaN</td>\n",
       "      <td>NaN</td>\n",
       "      <td>NaN</td>\n",
       "      <td>3.0</td>\n",
       "      <td>2.0</td>\n",
       "      <td>3.0</td>\n",
       "      <td>8</td>\n",
       "      <td>8</td>\n",
       "    </tr>\n",
       "    <tr>\n",
       "      <th>4</th>\n",
       "      <td>01-1-000014</td>\n",
       "      <td>76.976285</td>\n",
       "      <td>195.615795</td>\n",
       "      <td>76.976294</td>\n",
       "      <td>195.616254</td>\n",
       "      <td>20.948878</td>\n",
       "      <td>0.340399</td>\n",
       "      <td>21.550893</td>\n",
       "      <td>20.326902</td>\n",
       "      <td>0.332212</td>\n",
       "      <td>...</td>\n",
       "      <td>CpxFF</td>\n",
       "      <td>NaN</td>\n",
       "      <td>Floor Deposits</td>\n",
       "      <td>NaN</td>\n",
       "      <td>NaN</td>\n",
       "      <td>3.0</td>\n",
       "      <td>2.0</td>\n",
       "      <td>3.0</td>\n",
       "      <td>8</td>\n",
       "      <td>8</td>\n",
       "    </tr>\n",
       "    <tr>\n",
       "      <th>...</th>\n",
       "      <td>...</td>\n",
       "      <td>...</td>\n",
       "      <td>...</td>\n",
       "      <td>...</td>\n",
       "      <td>...</td>\n",
       "      <td>...</td>\n",
       "      <td>...</td>\n",
       "      <td>...</td>\n",
       "      <td>...</td>\n",
       "      <td>...</td>\n",
       "      <td>...</td>\n",
       "      <td>...</td>\n",
       "      <td>...</td>\n",
       "      <td>...</td>\n",
       "      <td>...</td>\n",
       "      <td>...</td>\n",
       "      <td>...</td>\n",
       "      <td>...</td>\n",
       "      <td>...</td>\n",
       "      <td>...</td>\n",
       "      <td>...</td>\n",
       "    </tr>\n",
       "    <tr>\n",
       "      <th>392426</th>\n",
       "      <td>16-4-007160</td>\n",
       "      <td>-51.253765</td>\n",
       "      <td>93.980015</td>\n",
       "      <td>-51.253710</td>\n",
       "      <td>93.980005</td>\n",
       "      <td>1.325088</td>\n",
       "      <td>0.016568</td>\n",
       "      <td>1.365264</td>\n",
       "      <td>1.279374</td>\n",
       "      <td>0.349092</td>\n",
       "      <td>...</td>\n",
       "      <td>NaN</td>\n",
       "      <td>NaN</td>\n",
       "      <td>NaN</td>\n",
       "      <td>NaN</td>\n",
       "      <td>NaN</td>\n",
       "      <td>NaN</td>\n",
       "      <td>NaN</td>\n",
       "      <td>NaN</td>\n",
       "      <td>0</td>\n",
       "      <td>-1</td>\n",
       "    </tr>\n",
       "    <tr>\n",
       "      <th>392427</th>\n",
       "      <td>16-4-007161</td>\n",
       "      <td>-52.010160</td>\n",
       "      <td>131.870216</td>\n",
       "      <td>-52.010131</td>\n",
       "      <td>131.870172</td>\n",
       "      <td>1.266052</td>\n",
       "      <td>0.014247</td>\n",
       "      <td>1.289768</td>\n",
       "      <td>1.238597</td>\n",
       "      <td>0.278881</td>\n",
       "      <td>...</td>\n",
       "      <td>NaN</td>\n",
       "      <td>NaN</td>\n",
       "      <td>NaN</td>\n",
       "      <td>NaN</td>\n",
       "      <td>NaN</td>\n",
       "      <td>NaN</td>\n",
       "      <td>NaN</td>\n",
       "      <td>NaN</td>\n",
       "      <td>0</td>\n",
       "      <td>-1</td>\n",
       "    </tr>\n",
       "    <tr>\n",
       "      <th>392428</th>\n",
       "      <td>16-4-007162</td>\n",
       "      <td>-55.929621</td>\n",
       "      <td>165.240464</td>\n",
       "      <td>-55.929621</td>\n",
       "      <td>165.240425</td>\n",
       "      <td>1.093010</td>\n",
       "      <td>0.033980</td>\n",
       "      <td>1.144802</td>\n",
       "      <td>1.035258</td>\n",
       "      <td>0.426872</td>\n",
       "      <td>...</td>\n",
       "      <td>NaN</td>\n",
       "      <td>NaN</td>\n",
       "      <td>NaN</td>\n",
       "      <td>NaN</td>\n",
       "      <td>NaN</td>\n",
       "      <td>NaN</td>\n",
       "      <td>NaN</td>\n",
       "      <td>NaN</td>\n",
       "      <td>0</td>\n",
       "      <td>-1</td>\n",
       "    </tr>\n",
       "    <tr>\n",
       "      <th>392429</th>\n",
       "      <td>16-4-007163</td>\n",
       "      <td>-57.577402</td>\n",
       "      <td>150.020821</td>\n",
       "      <td>-57.577196</td>\n",
       "      <td>150.021399</td>\n",
       "      <td>1.765619</td>\n",
       "      <td>0.029925</td>\n",
       "      <td>1.866267</td>\n",
       "      <td>1.708802</td>\n",
       "      <td>0.402033</td>\n",
       "      <td>...</td>\n",
       "      <td>NaN</td>\n",
       "      <td>NaN</td>\n",
       "      <td>NaN</td>\n",
       "      <td>NaN</td>\n",
       "      <td>NaN</td>\n",
       "      <td>NaN</td>\n",
       "      <td>NaN</td>\n",
       "      <td>NaN</td>\n",
       "      <td>0</td>\n",
       "      <td>-1</td>\n",
       "    </tr>\n",
       "    <tr>\n",
       "      <th>392430</th>\n",
       "      <td>16-4-007164</td>\n",
       "      <td>-63.860255</td>\n",
       "      <td>128.517834</td>\n",
       "      <td>-63.860265</td>\n",
       "      <td>128.517791</td>\n",
       "      <td>1.050987</td>\n",
       "      <td>0.031312</td>\n",
       "      <td>1.101924</td>\n",
       "      <td>0.996221</td>\n",
       "      <td>0.427377</td>\n",
       "      <td>...</td>\n",
       "      <td>NaN</td>\n",
       "      <td>NaN</td>\n",
       "      <td>NaN</td>\n",
       "      <td>NaN</td>\n",
       "      <td>NaN</td>\n",
       "      <td>NaN</td>\n",
       "      <td>NaN</td>\n",
       "      <td>NaN</td>\n",
       "      <td>0</td>\n",
       "      <td>-1</td>\n",
       "    </tr>\n",
       "  </tbody>\n",
       "</table>\n",
       "<p>392431 rows × 36 columns</p>\n",
       "</div>"
      ],
      "text/plain": [
       "          CRATER_ID  LAT_CIRC_IMG  LON_CIRC_IMG  LAT_ELLI_IMG  LON_ELLI_IMG  \\\n",
       "0       01-1-000003     79.257599    211.909949     79.257584    211.910021   \n",
       "1       01-1-000004     78.696512    207.162344     78.696517    207.162105   \n",
       "2       01-1-000012     77.791422    186.586023     77.791443    186.585690   \n",
       "3       01-1-000013     76.655040    194.807812     76.655020    194.807973   \n",
       "4       01-1-000014     76.976285    195.615795     76.976294    195.616254   \n",
       "...             ...           ...           ...           ...           ...   \n",
       "392426  16-4-007160    -51.253765     93.980015    -51.253710     93.980005   \n",
       "392427  16-4-007161    -52.010160    131.870216    -52.010131    131.870172   \n",
       "392428  16-4-007162    -55.929621    165.240464    -55.929621    165.240425   \n",
       "392429  16-4-007163    -57.577402    150.020821    -57.577196    150.021399   \n",
       "392430  16-4-007164    -63.860255    128.517834    -63.860265    128.517791   \n",
       "\n",
       "        DIAM_CIRC_IMG  DIAM_CIRC_SD_IMG  DIAM_ELLI_MAJOR_IMG  \\\n",
       "0           19.526698          0.230187            19.746718   \n",
       "1            4.232291          0.089167             4.449180   \n",
       "2            8.542042          0.193030             8.818632   \n",
       "3            7.967843          0.139290             8.268589   \n",
       "4           20.948878          0.340399            21.550893   \n",
       "...               ...               ...                  ...   \n",
       "392426       1.325088          0.016568             1.365264   \n",
       "392427       1.266052          0.014247             1.289768   \n",
       "392428       1.093010          0.033980             1.144802   \n",
       "392429       1.765619          0.029925             1.866267   \n",
       "392430       1.050987          0.031312             1.101924   \n",
       "\n",
       "        DIAM_ELLI_MINOR_IMG  DIAM_ELLI_ECCEN_IMG  ...  INT_MORPH1  INT_MORPH2  \\\n",
       "0                 19.286041             0.214742  ...      CpxUnc         NaN   \n",
       "1                  4.019798             0.428605  ...         NaN         NaN   \n",
       "2                  8.251528             0.352817  ...       CpxFF         NaN   \n",
       "3                  7.662693             0.375745  ...       CpxFF         NaN   \n",
       "4                 20.326902             0.332212  ...       CpxFF         NaN   \n",
       "...                     ...                  ...  ...         ...         ...   \n",
       "392426             1.279374             0.349092  ...         NaN         NaN   \n",
       "392427             1.238597             0.278881  ...         NaN         NaN   \n",
       "392428             1.035258             0.426872  ...         NaN         NaN   \n",
       "392429             1.708802             0.402033  ...         NaN         NaN   \n",
       "392430             0.996221             0.427377  ...         NaN         NaN   \n",
       "\n",
       "            INT_MORPH3  CONF  NOTES  DEG_RIM  DEG_EJC  DEG_FLR  DEG_LEV_1  \\\n",
       "0       Floor Deposits   NaN    NaN      1.0      1.0      1.0          3   \n",
       "1       Floor Deposits   NaN    NaN      3.0      2.0      1.0          6   \n",
       "2                  NaN   NaN    NaN      2.0      2.0      2.0          6   \n",
       "3                  NaN   NaN    NaN      3.0      2.0      3.0          8   \n",
       "4       Floor Deposits   NaN    NaN      3.0      2.0      3.0          8   \n",
       "...                ...   ...    ...      ...      ...      ...        ...   \n",
       "392426             NaN   NaN    NaN      NaN      NaN      NaN          0   \n",
       "392427             NaN   NaN    NaN      NaN      NaN      NaN          0   \n",
       "392428             NaN   NaN    NaN      NaN      NaN      NaN          0   \n",
       "392429             NaN   NaN    NaN      NaN      NaN      NaN          0   \n",
       "392430             NaN   NaN    NaN      NaN      NaN      NaN          0   \n",
       "\n",
       "        DEG_LEV  \n",
       "0             3  \n",
       "1             6  \n",
       "2             6  \n",
       "3             8  \n",
       "4             8  \n",
       "...         ...  \n",
       "392426       -1  \n",
       "392427       -1  \n",
       "392428       -1  \n",
       "392429       -1  \n",
       "392430       -1  \n",
       "\n",
       "[392431 rows x 36 columns]"
      ]
     },
     "execution_count": 3,
     "metadata": {},
     "output_type": "execute_result"
    }
   ],
   "source": [
    "df = pd.read_csv(\"Catalog_Mars_Release_2020_1kmPlus_FullMorphData.csv\",engine='python',delimiter=',')\n",
    "df"
   ]
  },
  {
   "cell_type": "markdown",
   "id": "e0d8a525",
   "metadata": {},
   "source": [
    "## Generate the dataset by matching lat long "
   ]
  },
  {
   "cell_type": "code",
   "execution_count": 4,
   "id": "bee30c0c",
   "metadata": {},
   "outputs": [],
   "source": [
    "def generate_data_overlap(max_lat,min_lat,max_long,min_long,pathsave,df,target_size,im_name,name):\n",
    "    \n",
    "    if os.path.exists(pathsave+'/labels') == False:\n",
    "        os.mkdir(pathsave+'/labels')\n",
    "    if os.path.exists(pathsave+'/images') == False:\n",
    "        os.mkdir(pathsave+'/images')\n",
    "    \n",
    "    images_path = pathsave+'/images'\n",
    "    labels_path = pathsave+'/labels'\n",
    "    df1 = df[(df['LAT_CIRC_IMG']>min_lat) & (df['LAT_CIRC_IMG']<max_lat)]\n",
    "    df1 = df1[df1['LON_CIRC_IMG']>min_long]\n",
    "    df1 = df1[df1['LON_CIRC_IMG']<max_long]\n",
    "\n",
    "    df2 = df1.copy()\n",
    "    df2['x'] = 1\n",
    "    df2['y'] = 1\n",
    "    df2['w'] = 1\n",
    "    df2['h'] = 1\n",
    "    df2['r']  = 1\n",
    "\n",
    "    x = df1['LON_ELLI_IMG']\n",
    "    y = df1['LAT_ELLI_IMG']\n",
    "    r = df1['DIAM_ELLI_MAJOR_IMG']/2\n",
    "    lon_ratio = 3378.4*np.cos(math.pi/180*y)*math.pi/180\n",
    "    lat_ratio = np.pi*3389.5/180\n",
    "    df2['x'] = x - r/lon_ratio\n",
    "    df2['y'] = y - r/lat_ratio\n",
    "    df2['w'] = 2*r/lon_ratio\n",
    "    df2['h'] = 2*r/lat_ratio\n",
    "    df2['r'] = r\n",
    "\n",
    "    img = plt.imread(im_name)\n",
    "    x = img.shape[1]\n",
    "    y = img.shape[0]\n",
    "    df3 = df2.copy()\n",
    "\n",
    "    df3['x'] = x / (max_long - min_long) * (df2['x'] - min_long)\n",
    "    df3['y'] = y - y / (max_lat-min_lat) * (df2['y'] - min_lat)\n",
    "    df3['w'] = x / (max_long-min_long) * df2['w']\n",
    "    df3['h'] = y / (max_lat-min_lat) * df2['h']\n",
    "\n",
    "\n",
    "    h, w = img.shape\n",
    "    c=0\n",
    "    # x - h, y - w\n",
    "    crop_size = target_size\n",
    "    num_y = int(math.floor(h / target_size))\n",
    "    num_x = int(math.floor(w / target_size))\n",
    "    print(f\"width: {w}, height: {h}, crop size: {crop_size}\")\n",
    "    print(f\"num in x direction: {num_x}, num in y direction: {num_y}\")\n",
    "\n",
    "\n",
    "    clean_images = f'del {images_path}'\n",
    "    clean_labels = f'del {labels_path}'\n",
    "    !{clean_images}\n",
    "    !{clean_labels}\n",
    "\n",
    "    # Calculate initial number of crops horizontally and vertically without overlap\n",
    "    num_x = ceil(w / crop_size)\n",
    "    num_y = ceil(h / crop_size)\n",
    "\n",
    "    # Dynamically calculate overlap based on remaining space for the last crop\n",
    "    overlap_x = (num_x * crop_size - w) / (num_x - 1) if num_x > 1 else 0\n",
    "    overlap_y = (num_y * crop_size - h) / (num_y - 1) if num_y > 1 else 0\n",
    "\n",
    "    for i in tqdm(range(num_y)):\n",
    "        for j in range(num_x):\n",
    "            x_low = j * crop_size - j * overlap_x\n",
    "            y_low = i * crop_size - i * overlap_y\n",
    "\n",
    "            # Ensure the calculated starting points are within the image boundaries\n",
    "            x_low, y_low = math.floor(max(0, x_low)), math.floor(max(0, y_low))\n",
    "            x_high, y_high = x_low + crop_size, y_low + crop_size\n",
    "            x_high = math.floor(min(x_high, w))\n",
    "            y_high = math.floor(min(y_high, h))\n",
    "\n",
    "#             print('crop_size:',x_high-x_low, y_high-y_low)\n",
    "            \n",
    "            curr_list = []\n",
    "            offset = 0\n",
    "            df5 = df3.copy()\n",
    "            img_crop = img[y_low:y_high, x_low:x_high]\n",
    "            base_name_img = images_path+'/'+name+'_'+str(x_low)+'_'+str(y_low)+'_'+str(max_lat)+ '_' + str(min_lat)+ '_' + str(max_long)+ '_' + str(min_long)\n",
    "            base_name_label = labels_path+'/'+name+'_'+ str(x_low) +'_'+ str(y_low) +'_'+str(max_lat)+ '_' + str(min_lat)+ '_' + str(max_long)+ '_' + str(min_long)\n",
    "            cv2.imwrite(base_name_img+'.jpg',img_crop)\n",
    "#             with Image.open(base_name_img+'.jpg') as img:\n",
    "#                     # Resize the image\n",
    "#                     resized_img = img.resize(1024, Image.ANTIALIAS)\n",
    "#                     resized_img.save(output_path)\n",
    "                            \n",
    "            df5 = df3[(df3['y']>=y_low-offset) & (df3['y']<=y_high+offset)]\n",
    "            df5 = df5[(df5['x']>=x_low-offset) & (df5['x']<=x_high+offset)]\n",
    "\n",
    "\n",
    "\n",
    "            if len(df5) == 0:\n",
    "    #             fileObject = open(''+str(c)+'.txt','a')\n",
    "                pass\n",
    "            else:\n",
    "                x_crop = img_crop.shape[1]\n",
    "                y_crop = img_crop.shape[0]\n",
    "\n",
    "                for k in range(len(df5)):\n",
    "                    y = float(df1['LAT_ELLI_IMG'][df1['LAT_ELLI_IMG'].index[i]])\n",
    "                    lon_ratio = 3378.4*math.cos(math.pi/180*y)*math.pi/180\n",
    "                    lat_ratio = math.pi*3389.5/180\n",
    "\n",
    "                    if df5['h'][df5['h'].index[k]]>60:\n",
    "\n",
    "                        X = (df5['x'][df5['x'].index[k]]-x_low)/x_crop+df5['w'][df5['w'].index[k]]/x_crop/2\n",
    "                        Y = ((df5['y'][df5['y'].index[k]]-20*df5['r'][df5['r'].index[k]]- y_low))/y_crop+df5['h'][df5['h'].index[k]]/y_crop/2\n",
    "                        W = df5['w'][df5['w'].index[k]]/x_crop\n",
    "                        H = df5['h'][df5['h'].index[k]]/y_crop\n",
    "                        curr_list.append(['0', max(min(X, 0.99), 0.01), max(min(Y, 0.99), 0.01), max(min(W, 0.99), 0.01), max(min(H, 0.99), 0.01)])\n",
    "\n",
    "                    elif 10<=df5['h'][df5['h'].index[k]]<=60:\n",
    "                        X = (df5['x'][df5['x'].index[k]]-df5['r'][df5['r'].index[k]]*2-x_low)/x_crop+df5['w'][df5['w'].index[k]]/x_crop/2\n",
    "                        Y = ((df5['y'][df5['y'].index[k]]-20*df5['r'][df5['r'].index[k]]- y_low))/y_crop+df5['h'][df5['h'].index[k]]/y_crop/2\n",
    "                        W = df5['w'][df5['w'].index[k]]/x_crop\n",
    "                        H = df5['h'][df5['h'].index[k]]/y_crop\n",
    "                        curr_list.append(['0', max(min(X, 0.99), 0.01), max(min(Y, 0.99), 0.01), max(min(W, 0.99), 0.01), max(min(H, 0.99), 0.01)])\n",
    "\n",
    "                    elif 10<=df5['h'][df5['h'].index[k]]<=60:\n",
    "                        X = (df5['x'][df5['x'].index[k]]-df5['r'][df5['r'].index[k]]*2-x_low)/x_crop+df5['w'][df5['w'].index[k]]/x_crop/2\n",
    "                        Y = ((df5['y'][df5['y'].index[k]]-20*df5['r'][df5['r'].index[k]]- y_low))/y_crop+df5['h'][df5['h'].index[k]]/y_crop/2\n",
    "                        W = df5['w'][df5['w'].index[k]]/x_crop\n",
    "                        H = df5['h'][df5['h'].index[k]]/y_crop\n",
    "                        curr_list.append(['0', max(min(X, 0.99), 0.01), max(min(Y, 0.99), 0.01), max(min(W, 0.99), 0.01), max(min(H, 0.99), 0.01)])\n",
    "\n",
    "                    else:\n",
    "                        pass\n",
    "\n",
    "                with open(base_name_label +'.txt','w') as fileObject:\n",
    "                    for values in curr_list:\n",
    "                        for ip in values:\n",
    "                            fileObject.write(str(ip))\n",
    "                            fileObject.write(' ')\n",
    "                        fileObject.write('\\n')\n",
    "\n",
    "            c+=1\n",
    "            \n"
   ]
  },
  {
   "cell_type": "markdown",
   "id": "71efd0d3",
   "metadata": {},
   "source": [
    "## Generate the yolo dataset by matching the lat long with robbins dataset\n",
    "\n",
    "The following code will generate folders with images and labels for each THEMIS image tile. It involves overlapping at the image boundaries to ensure full coverage. You can set your own preference for the train-test-validation split.\n"
   ]
  },
  {
   "cell_type": "code",
   "execution_count": null,
   "id": "cb4c1d61",
   "metadata": {},
   "outputs": [],
   "source": [
    "# set the size of the image tiles \n",
    "size = 416"
   ]
  },
  {
   "cell_type": "markdown",
   "id": "eb628cc2",
   "metadata": {},
   "source": [
    "#### MareTyrrhenum"
   ]
  },
  {
   "cell_type": "code",
   "execution_count": 6,
   "id": "7c722827",
   "metadata": {},
   "outputs": [],
   "source": [
    "from math import ceil\n",
    "from tqdm import tqdm\n",
    "name = 'MareTyrrhenum'\n",
    "# pathsave = 'dataset_generation_old/dataset_'+str(size)+'_'+name\n",
    "pathsave = 'dataset_generation_old/size_variant/dataset_'+str(size)+'_'+name"
   ]
  },
  {
   "cell_type": "code",
   "execution_count": 7,
   "id": "82eb105d",
   "metadata": {},
   "outputs": [
    {
     "name": "stdout",
     "output_type": "stream",
     "text": [
      "width: 26675, height: 17783, crop size: 416\n",
      "num in x direction: 64, num in y direction: 42\n"
     ]
    },
    {
     "name": "stderr",
     "output_type": "stream",
     "text": [
      "Parameter format not correct - \"size_variant\".\n",
      "Parameter format not correct - \"size_variant\".\n",
      "100%|██████████| 43/43 [00:34<00:00,  1.23it/s]\n"
     ]
    }
   ],
   "source": [
    "if os.path.exists(pathsave) == False:\n",
    "    os.mkdir(pathsave)\n",
    "im_name = 'Themis/THEMIS_DayIR_ControlledMosaic_MareTyrrhenum_30S090E_100mpp.jpg'\n",
    "output_path = 'dataset_generation_old/detection_img/'+str(size) # replace with your output folder path\n",
    "\n",
    "max_lat = 0\n",
    "min_lat = -30\n",
    "max_long = 135\n",
    "min_long = 90\n",
    "# generate_data(max_lat,min_lat,max_long,min_long,pathsave,df,size,im_name,name)\n",
    "generate_data_overlap(max_lat,min_lat,max_long,min_long,pathsave,df,size,im_name,name)"
   ]
  },
  {
   "cell_type": "markdown",
   "id": "cb54d587",
   "metadata": {},
   "source": [
    "#### Tharsis"
   ]
  },
  {
   "cell_type": "code",
   "execution_count": 44,
   "id": "4127ae8b",
   "metadata": {},
   "outputs": [],
   "source": [
    "name = 'Tharsis'\n",
    "# pathsave = 'dataset_generation_old/dataset_'+str(size)+'_'+name\n",
    "pathsave = 'dataset_generation_old/size_variant/dataset_'+str(size)+'_'+name\n",
    "if os.path.exists(pathsave) == False:\n",
    "    os.mkdir(pathsave)"
   ]
  },
  {
   "cell_type": "code",
   "execution_count": 45,
   "id": "4bf6ace2",
   "metadata": {},
   "outputs": [
    {
     "name": "stdout",
     "output_type": "stream",
     "text": [
      "width: 26675, height: 17783, crop size: 6144\n",
      "num in x direction: 4, num in y direction: 2\n"
     ]
    },
    {
     "name": "stderr",
     "output_type": "stream",
     "text": [
      "Parameter format not correct - \"size_variant\".\n",
      "Parameter format not correct - \"size_variant\".\n",
      "100%|██████████| 3/3 [00:13<00:00,  4.66s/it]\n"
     ]
    }
   ],
   "source": [
    "im_name = 'Themis/THEMIS_DayIR_ControlledMosaic_Tharsis_000N225E_100mpp.tif'\n",
    "min_lat = 0\n",
    "max_lat = 30\n",
    "min_long = 225\n",
    "max_long = 270\n",
    "generate_data_overlap(max_lat,min_lat,max_long,min_long,pathsave,df,size,im_name,name)"
   ]
  },
  {
   "cell_type": "markdown",
   "id": "762280b3",
   "metadata": {},
   "source": [
    "#### SyrtisMajor"
   ]
  },
  {
   "cell_type": "code",
   "execution_count": 14,
   "id": "1487bb56",
   "metadata": {},
   "outputs": [],
   "source": [
    "name = 'Syrtis'\n",
    "# pathsave = 'dataset_generation_old/dataset_'+str(size)+'_'+name\n",
    "pathsave = 'dataset_generation_old/size_variant/dataset_'+str(size)+'_'+name\n",
    "if os.path.exists(pathsave) == False:\n",
    "    os.mkdir(pathsave)\n",
    "    "
   ]
  },
  {
   "cell_type": "code",
   "execution_count": 15,
   "id": "e9b76899",
   "metadata": {
    "scrolled": true
   },
   "outputs": [
    {
     "name": "stdout",
     "output_type": "stream",
     "text": [
      "width: 26674, height: 17783, crop size: 416\n",
      "num in x direction: 64, num in y direction: 42\n"
     ]
    },
    {
     "name": "stderr",
     "output_type": "stream",
     "text": [
      "Parameter format not correct - \"size_variant\".\n",
      "Parameter format not correct - \"size_variant\".\n",
      "100%|██████████| 43/43 [00:32<00:00,  1.31it/s]\n"
     ]
    }
   ],
   "source": [
    "im_name = 'Themis/THEMIS_DayIR_ControlledMosaic_SyrtisMajor_00N45E_100mpp.tif'\n",
    "min_lat = 0\n",
    "max_lat = 30\n",
    "min_long = 45\n",
    "max_long = 90\n",
    "generate_data_overlap(max_lat,min_lat,max_long,min_long,pathsave,df,size,im_name,name)"
   ]
  },
  {
   "cell_type": "markdown",
   "id": "3587d79c",
   "metadata": {},
   "source": [
    "#### SinusSabaeus"
   ]
  },
  {
   "cell_type": "code",
   "execution_count": 44,
   "id": "2a60574a",
   "metadata": {},
   "outputs": [],
   "source": [
    "name = 'SinusSabaeus'\n",
    "# pathsave = 'dataset_generation_old/dataset_'+str(size)+'_'+name\n",
    "pathsave = 'dataset_generation_old/size_variant/dataset_'+str(size)+'_'+name\n",
    "if os.path.exists(pathsave) == False:\n",
    "    os.mkdir(pathsave)\n",
    "    "
   ]
  },
  {
   "cell_type": "code",
   "execution_count": 45,
   "id": "9af280b8",
   "metadata": {},
   "outputs": [
    {
     "name": "stdout",
     "output_type": "stream",
     "text": [
      "width: 26674, height: 17783, crop size: 416\n",
      "num in x direction: 64, num in y direction: 42\n"
     ]
    },
    {
     "name": "stderr",
     "output_type": "stream",
     "text": [
      "Parameter format not correct - \"size_variant\".\n",
      "Parameter format not correct - \"size_variant\".\n",
      "100%|██████████| 43/43 [00:39<00:00,  1.08it/s]\n"
     ]
    }
   ],
   "source": [
    "im_name = 'Themis/THEMIS_DayIR_ControlledMosaic_SinusSabaeus_30S00E_100mpp.tif'\n",
    "min_lat = -30\n",
    "max_lat = 0\n",
    "min_long = 0\n",
    "max_long = 45\n",
    "generate_data_overlap(max_lat,min_lat,max_long,min_long,pathsave,df,size,im_name,name)"
   ]
  },
  {
   "cell_type": "markdown",
   "id": "2784f072",
   "metadata": {},
   "source": [
    "#### PhoenicisLacus"
   ]
  },
  {
   "cell_type": "code",
   "execution_count": 26,
   "id": "2c014dfc",
   "metadata": {},
   "outputs": [],
   "source": [
    "# size = 3072\n",
    "name = 'PhoenicisLacus'\n",
    "# pathsave = 'dataset_generation_old/dataset_'+str(size)+'_'+name\n",
    "pathsave = 'dataset_generation_old/size_variant/dataset_'+str(size)+'_'+name\n",
    "if os.path.exists(pathsave) == False:\n",
    "    os.mkdir(pathsave)\n",
    "    "
   ]
  },
  {
   "cell_type": "code",
   "execution_count": 27,
   "id": "32d7f8ec",
   "metadata": {
    "scrolled": true
   },
   "outputs": [
    {
     "name": "stdout",
     "output_type": "stream",
     "text": [
      "width: 26675, height: 17783, crop size: 416\n",
      "num in x direction: 64, num in y direction: 42\n"
     ]
    },
    {
     "name": "stderr",
     "output_type": "stream",
     "text": [
      "Parameter format not correct - \"size_variant\".\n",
      "Parameter format not correct - \"size_variant\".\n",
      "100%|██████████| 43/43 [00:22<00:00,  1.90it/s]\n"
     ]
    }
   ],
   "source": [
    "im_name = 'Themis/THEMIS_DayIR_ControlledMosaic_PhoenicisLacus_30S225E_100mpp.tif'\n",
    "min_lat = -30\n",
    "max_lat = 0\n",
    "min_long = 225\n",
    "max_long = 270\n",
    "generate_data_overlap(max_lat,min_lat,max_long,min_long,pathsave,df,size,im_name,name)"
   ]
  },
  {
   "cell_type": "markdown",
   "id": "acf97469",
   "metadata": {},
   "source": [
    "#### Memnonia"
   ]
  },
  {
   "cell_type": "code",
   "execution_count": 37,
   "id": "93f83680",
   "metadata": {},
   "outputs": [],
   "source": [
    "name = 'menomia'\n",
    "# pathsave = 'dataset_generation_old/dataset_'+str(size)+'_'+name\n",
    "pathsave = 'dataset_generation_old/size_variant/dataset_'+str(size)+'_'+name\n",
    "\n",
    "if os.path.exists(pathsave) == False:\n",
    "    os.mkdir(pathsave)\n",
    "    "
   ]
  },
  {
   "cell_type": "code",
   "execution_count": 38,
   "id": "38e22cca",
   "metadata": {
    "scrolled": true
   },
   "outputs": [
    {
     "name": "stdout",
     "output_type": "stream",
     "text": [
      "width: 26674, height: 17783, crop size: 1024\n",
      "num in x direction: 26, num in y direction: 17\n"
     ]
    },
    {
     "name": "stderr",
     "output_type": "stream",
     "text": [
      "Parameter format not correct - \"size_variant\".\n",
      "Parameter format not correct - \"size_variant\".\n",
      "100%|██████████| 18/18 [00:24<00:00,  1.34s/it]\n"
     ]
    }
   ],
   "source": [
    "im_name = 'Themis/THEMIS_DayIR_ControlledMosaic_Memnonia_30S180E_100mpp.tif'\n",
    "min_lat = -30\n",
    "max_lat = 0\n",
    "min_long = 180\n",
    "max_long = 225\n",
    "generate_data_overlap(max_lat,min_lat,max_long,min_long,pathsave,df,size,im_name,name)"
   ]
  },
  {
   "cell_type": "markdown",
   "id": "7d6e66c5",
   "metadata": {},
   "source": [
    "#### MargaritiferSinus"
   ]
  },
  {
   "cell_type": "code",
   "execution_count": 53,
   "id": "3295b61d",
   "metadata": {},
   "outputs": [],
   "source": [
    "name = 'MargaritiferSinus'\n",
    "# pathsave = 'dataset_generation_old/dataset_'+str(size)+'_'+name\n",
    "pathsave = 'dataset_generation_old/size_variant/dataset_'+str(size)+'_'+name\n",
    "\n",
    "if os.path.exists(pathsave) == False:\n",
    "    os.mkdir(pathsave)\n",
    "    "
   ]
  },
  {
   "cell_type": "code",
   "execution_count": 54,
   "id": "068a0733",
   "metadata": {},
   "outputs": [
    {
     "name": "stdout",
     "output_type": "stream",
     "text": [
      "width: 26674, height: 17783, crop size: 416\n",
      "num in x direction: 64, num in y direction: 42\n"
     ]
    },
    {
     "name": "stderr",
     "output_type": "stream",
     "text": [
      "Parameter format not correct - \"size_variant\".\n",
      "Parameter format not correct - \"size_variant\".\n",
      "100%|██████████| 43/43 [00:19<00:00,  2.23it/s]\n"
     ]
    }
   ],
   "source": [
    "im_name = 'Themis/THEMIS_DayIR_ControlledMosaic_MargaritiferSinus_30S315E_100mpp.jpg'\n",
    "min_lat = -30\n",
    "max_lat = 0\n",
    "min_long = -45\n",
    "max_long = 0\n",
    "generate_data_overlap(max_lat,min_lat,max_long,min_long,pathsave,df,size,im_name,name)"
   ]
  },
  {
   "cell_type": "markdown",
   "id": "f1b7e50c",
   "metadata": {},
   "source": [
    "#### LunaePalus"
   ]
  },
  {
   "cell_type": "code",
   "execution_count": 56,
   "id": "b965b55e",
   "metadata": {},
   "outputs": [],
   "source": [
    "name = 'LunaePalus'\n",
    "# pathsave = 'dataset_generation_old/dataset_'+str(size)+'_'+name\n",
    "pathsave = 'dataset_generation_old/size_variant/dataset_'+str(size)+'_'+name\n",
    "if os.path.exists(pathsave) == False:\n",
    "    os.mkdir(pathsave)\n",
    "    "
   ]
  },
  {
   "cell_type": "code",
   "execution_count": 57,
   "id": "628838f6",
   "metadata": {},
   "outputs": [
    {
     "name": "stdout",
     "output_type": "stream",
     "text": [
      "width: 26674, height: 17783, crop size: 416\n",
      "num in x direction: 64, num in y direction: 42\n"
     ]
    },
    {
     "name": "stderr",
     "output_type": "stream",
     "text": [
      "Parameter format not correct - \"size_variant\".\n",
      "Parameter format not correct - \"size_variant\".\n",
      "100%|██████████| 43/43 [00:34<00:00,  1.26it/s]\n"
     ]
    }
   ],
   "source": [
    "im_name = 'Themis/THEMIS_DayIR_ControlledMosaic_LunaePalus_00N270E_100mpp.jpg'\n",
    "min_lat = 0\n",
    "max_lat = 30\n",
    "min_long = 270\n",
    "max_long = 315\n",
    "generate_data_overlap(max_lat,min_lat,max_long,min_long,pathsave,df,size,im_name,name)"
   ]
  },
  {
   "cell_type": "markdown",
   "id": "4c2a7237",
   "metadata": {},
   "source": [
    "#### Iapygia"
   ]
  },
  {
   "cell_type": "code",
   "execution_count": 59,
   "id": "398baea2",
   "metadata": {},
   "outputs": [],
   "source": [
    "name = 'Iapygia'\n",
    "# pathsave = 'dataset_generation_old/dataset_'+str(size)+'_'+name\n",
    "pathsave = 'dataset_generation_old/size_variant/dataset_'+str(size)+'_'+name\n",
    "if os.path.exists(pathsave) == False:\n",
    "    os.mkdir(pathsave)\n",
    "    "
   ]
  },
  {
   "cell_type": "code",
   "execution_count": 60,
   "id": "f50254ff",
   "metadata": {},
   "outputs": [
    {
     "name": "stdout",
     "output_type": "stream",
     "text": [
      "width: 26674, height: 17783, crop size: 416\n",
      "num in x direction: 64, num in y direction: 42\n"
     ]
    },
    {
     "name": "stderr",
     "output_type": "stream",
     "text": [
      "Parameter format not correct - \"size_variant\".\n",
      "Parameter format not correct - \"size_variant\".\n",
      "100%|██████████| 43/43 [00:52<00:00,  1.23s/it]\n"
     ]
    }
   ],
   "source": [
    "im_name = 'Themis/THEMIS_DayIR_ControlledMosaic_Iapygia_30S45E_100mpp.tif'\n",
    "min_lat = -30\n",
    "max_lat = 0\n",
    "min_long = 45\n",
    "max_long = 90\n",
    "generate_data_overlap(max_lat,min_lat,max_long,min_long,pathsave,df,size,im_name,name)"
   ]
  },
  {
   "cell_type": "markdown",
   "id": "bcf19736",
   "metadata": {},
   "source": [
    "#### Coprates"
   ]
  },
  {
   "cell_type": "code",
   "execution_count": 62,
   "id": "8e7ff3c9",
   "metadata": {},
   "outputs": [],
   "source": [
    "name = 'Coprates'\n",
    "# pathsave = 'dataset_generation_old/dataset_'+str(size)+'_'+name\n",
    "pathsave = 'dataset_generation_old/size_variant/dataset_'+str(size)+'_'+name\n",
    "if os.path.exists(pathsave) == False:\n",
    "    os.mkdir(pathsave)\n",
    "    "
   ]
  },
  {
   "cell_type": "code",
   "execution_count": 63,
   "id": "94cc2888",
   "metadata": {},
   "outputs": [
    {
     "name": "stdout",
     "output_type": "stream",
     "text": [
      "width: 26674, height: 17783, crop size: 416\n",
      "num in x direction: 64, num in y direction: 42\n"
     ]
    },
    {
     "name": "stderr",
     "output_type": "stream",
     "text": [
      "Parameter format not correct - \"size_variant\".\n",
      "Parameter format not correct - \"size_variant\".\n",
      "100%|██████████| 43/43 [00:36<00:00,  1.19it/s]\n"
     ]
    }
   ],
   "source": [
    "im_name = 'Themis/THEMIS_DayIR_ControlledMosaic_Coprates_30S270E_100mpp.tif'\n",
    "min_lat = -30\n",
    "max_lat = 0\n",
    "min_long = 270\n",
    "max_long = 315\n",
    "generate_data_overlap(max_lat,min_lat,max_long,min_long,pathsave,df,size,im_name,name)"
   ]
  },
  {
   "cell_type": "markdown",
   "id": "2b409ccd",
   "metadata": {},
   "source": [
    "#### Elysium"
   ]
  },
  {
   "cell_type": "code",
   "execution_count": 65,
   "id": "443298c0",
   "metadata": {},
   "outputs": [],
   "source": [
    "name = 'Elysium'\n",
    "# pathsave = 'dataset_generation_old/dataset_'+str(size)+'_'+name\n",
    "pathsave = 'dataset_generation_old/size_variant/dataset_'+str(size)+'_'+name\n",
    "if os.path.exists(pathsave) == False:\n",
    "    os.mkdir(pathsave)\n",
    "    "
   ]
  },
  {
   "cell_type": "code",
   "execution_count": 66,
   "id": "a3077286",
   "metadata": {},
   "outputs": [
    {
     "name": "stdout",
     "output_type": "stream",
     "text": [
      "width: 26674, height: 17783, crop size: 416\n",
      "num in x direction: 64, num in y direction: 42\n"
     ]
    },
    {
     "name": "stderr",
     "output_type": "stream",
     "text": [
      "Parameter format not correct - \"size_variant\".\n",
      "Parameter format not correct - \"size_variant\".\n",
      "100%|██████████| 43/43 [00:27<00:00,  1.55it/s]\n"
     ]
    }
   ],
   "source": [
    "im_name = 'Themis/THEMIS_DayIR_ControlledMosaic_Elysium_00N135E_100mpp.tif'\n",
    "min_lat = 0\n",
    "max_lat = 30\n",
    "min_long = 135\n",
    "max_long = 180\n",
    "generate_data_overlap(max_lat,min_lat,max_long,min_long,pathsave,df,size,im_name,name)"
   ]
  },
  {
   "cell_type": "markdown",
   "id": "a5646968",
   "metadata": {},
   "source": [
    "#### Arabia"
   ]
  },
  {
   "cell_type": "code",
   "execution_count": 68,
   "id": "46d53b48",
   "metadata": {},
   "outputs": [],
   "source": [
    "name = 'Arabia'\n",
    "# pathsave = 'dataset_generation_old/dataset_'+str(size)+'_'+name\n",
    "pathsave = 'dataset_generation_old/size_variant/dataset_'+str(size)+'_'+name\n",
    "if os.path.exists(pathsave) == False:\n",
    "    os.mkdir(pathsave)\n",
    "    "
   ]
  },
  {
   "cell_type": "code",
   "execution_count": 69,
   "id": "3b7e5dde",
   "metadata": {},
   "outputs": [
    {
     "name": "stdout",
     "output_type": "stream",
     "text": [
      "width: 26674, height: 17783, crop size: 416\n",
      "num in x direction: 64, num in y direction: 42\n"
     ]
    },
    {
     "name": "stderr",
     "output_type": "stream",
     "text": [
      "Parameter format not correct - \"size_variant\".\n",
      "Parameter format not correct - \"size_variant\".\n",
      "100%|██████████| 43/43 [00:49<00:00,  1.14s/it]\n"
     ]
    }
   ],
   "source": [
    "im_name = 'Themis/THEMIS_DayIR_ControlledMosaic_Arabia_000N000E_100mpp.tif'\n",
    "min_lat = 0\n",
    "max_lat = 30\n",
    "min_long = 0\n",
    "max_long = 45\n",
    "generate_data_overlap(max_lat,min_lat,max_long,min_long,pathsave,df,size,im_name,name)"
   ]
  },
  {
   "cell_type": "markdown",
   "id": "cdf50fe9",
   "metadata": {},
   "source": [
    "#### Amazonis"
   ]
  },
  {
   "cell_type": "code",
   "execution_count": 71,
   "id": "d7a5b1f7",
   "metadata": {},
   "outputs": [],
   "source": [
    "name = 'Amazonis'\n",
    "# pathsave = 'dataset_generation_old/dataset_'+str(size)+'_'+name\n",
    "pathsave = 'dataset_generation_old/size_variant/dataset_'+str(size)+'_'+name\n",
    "if os.path.exists(pathsave) == False:\n",
    "    os.mkdir(pathsave)\n",
    "    "
   ]
  },
  {
   "cell_type": "code",
   "execution_count": 72,
   "id": "963aa12e",
   "metadata": {},
   "outputs": [
    {
     "name": "stdout",
     "output_type": "stream",
     "text": [
      "width: 26674, height: 17783, crop size: 416\n",
      "num in x direction: 64, num in y direction: 42\n"
     ]
    },
    {
     "name": "stderr",
     "output_type": "stream",
     "text": [
      "Parameter format not correct - \"size_variant\".\n",
      "Parameter format not correct - \"size_variant\".\n",
      "100%|██████████| 43/43 [00:19<00:00,  2.26it/s]\n"
     ]
    }
   ],
   "source": [
    "im_name = 'Themis/THEMIS_DayIR_ControlledMosaic_Amazonis_00N180E_100mpp.tif'\n",
    "min_lat = 0\n",
    "max_lat = 30\n",
    "min_long = 180\n",
    "max_long = 225\n",
    "generate_data_overlap(max_lat,min_lat,max_long,min_long,pathsave,df,size,im_name,name)"
   ]
  },
  {
   "cell_type": "markdown",
   "id": "7940472f",
   "metadata": {},
   "source": [
    "#### Amenthes"
   ]
  },
  {
   "cell_type": "code",
   "execution_count": 74,
   "id": "cc38cc02",
   "metadata": {},
   "outputs": [],
   "source": [
    "name = 'Amenthes'\n",
    "# pathsave = 'dataset_generation_old/dataset_'+str(size)+'_'+name\n",
    "pathsave = 'dataset_generation_old/size_variant/dataset_'+str(size)+'_'+name\n",
    "if os.path.exists(pathsave) == False:\n",
    "    os.mkdir(pathsave)\n",
    "    "
   ]
  },
  {
   "cell_type": "code",
   "execution_count": 75,
   "id": "1d821eb9",
   "metadata": {},
   "outputs": [
    {
     "name": "stdout",
     "output_type": "stream",
     "text": [
      "width: 26675, height: 17783, crop size: 416\n",
      "num in x direction: 64, num in y direction: 42\n"
     ]
    },
    {
     "name": "stderr",
     "output_type": "stream",
     "text": [
      "Parameter format not correct - \"size_variant\".\n",
      "Parameter format not correct - \"size_variant\".\n",
      "100%|██████████| 43/43 [00:29<00:00,  1.44it/s]\n"
     ]
    }
   ],
   "source": [
    "im_name = 'Themis/THEMIS_DayIR_ControlledMosaic_Amenthes_000N090E_100mpp.tif'\n",
    "min_lat = 0\n",
    "max_lat = 30\n",
    "min_long = 90\n",
    "max_long = 135\n",
    "generate_data_overlap(max_lat,min_lat,max_long,min_long,pathsave,df,size,im_name,name)"
   ]
  },
  {
   "cell_type": "markdown",
   "id": "12030ccd",
   "metadata": {},
   "source": [
    "#### Aeolis"
   ]
  },
  {
   "cell_type": "code",
   "execution_count": 77,
   "id": "6f3e1ae7",
   "metadata": {},
   "outputs": [],
   "source": [
    "name = 'Aeolis'\n",
    "# pathsave =| 'dataset_generation_old/dataset_'+str(size)+'_'+name\n",
    "pathsave = 'dataset_generation_old/size_variant/dataset_'+str(size)+'_'+name\n",
    "if os.path.exists(pathsave) == False:\n",
    "    os.mkdir(pathsave)\n",
    "    "
   ]
  },
  {
   "cell_type": "code",
   "execution_count": 78,
   "id": "b9b3fcd9",
   "metadata": {},
   "outputs": [
    {
     "name": "stdout",
     "output_type": "stream",
     "text": [
      "width: 26674, height: 17783, crop size: 416\n",
      "num in x direction: 64, num in y direction: 42\n"
     ]
    },
    {
     "name": "stderr",
     "output_type": "stream",
     "text": [
      "Parameter format not correct - \"size_variant\".\n",
      "Parameter format not correct - \"size_variant\".\n",
      "100%|██████████| 43/43 [00:35<00:00,  1.23it/s]\n"
     ]
    }
   ],
   "source": [
    "im_name = 'Themis/THEMIS_DayIR_ControlledMosaic_Aeolis_30S135E_100mpp.tif'\n",
    "min_lat = -30\n",
    "max_lat = 0\n",
    "min_long = 135\n",
    "max_long = 180\n",
    "generate_data_overlap(max_lat,min_lat,max_long,min_long,pathsave,df,size,im_name,name)"
   ]
  },
  {
   "cell_type": "markdown",
   "id": "bb503e55",
   "metadata": {},
   "source": [
    "#### OxiaPalus"
   ]
  },
  {
   "cell_type": "code",
   "execution_count": 80,
   "id": "e22c2c20",
   "metadata": {},
   "outputs": [],
   "source": [
    "name = 'OxiaPalus'\n",
    "# pathsave = 'dataset_generation_old/dataset_'+str(size)+'_'+name\n",
    "pathsave = 'dataset_generation_old/size_variant/dataset_'+str(size)+'_'+name\n",
    "if os.path.exists(pathsave) == False:\n",
    "    os.mkdir(pathsave)\n",
    "    "
   ]
  },
  {
   "cell_type": "code",
   "execution_count": 81,
   "id": "607235da",
   "metadata": {},
   "outputs": [
    {
     "name": "stdout",
     "output_type": "stream",
     "text": [
      "width: 26674, height: 17783, crop size: 416\n",
      "num in x direction: 64, num in y direction: 42\n"
     ]
    },
    {
     "name": "stderr",
     "output_type": "stream",
     "text": [
      "Parameter format not correct - \"size_variant\".\n",
      "Parameter format not correct - \"size_variant\".\n",
      "100%|██████████| 43/43 [00:15<00:00,  2.86it/s]\n"
     ]
    }
   ],
   "source": [
    "im_name = 'Themis/THEMIS_DayIR_ControlledMosaic_OxiaPalus_00N315E_100mpp.tif'\n",
    "min_lat = 0\n",
    "max_lat = 30\n",
    "min_long = -45\n",
    "max_long = 0\n",
    "generate_data_overlap(max_lat,min_lat,max_long,min_long,pathsave,df,size,im_name,name)"
   ]
  }
 ],
 "metadata": {
  "kernelspec": {
   "display_name": "Python 3 (ipykernel)",
   "language": "python",
   "name": "python3"
  },
  "language_info": {
   "codemirror_mode": {
    "name": "ipython",
    "version": 3
   },
   "file_extension": ".py",
   "mimetype": "text/x-python",
   "name": "python",
   "nbconvert_exporter": "python",
   "pygments_lexer": "ipython3",
   "version": "3.9.13"
  }
 },
 "nbformat": 4,
 "nbformat_minor": 5
}
